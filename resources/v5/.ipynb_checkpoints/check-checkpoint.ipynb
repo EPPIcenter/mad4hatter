{
 "cells": [
  {
   "cell_type": "code",
   "execution_count": 1,
   "id": "732bda3d-cc33-4602-be24-328400e5774f",
   "metadata": {},
   "outputs": [],
   "source": [
    "import pandas as pd\n",
    "from Bio import SeqIO"
   ]
  },
  {
   "cell_type": "code",
   "execution_count": 2,
   "id": "552c4e39-3608-463d-8175-c5ac0b6cd162",
   "metadata": {},
   "outputs": [],
   "source": [
    "input_path = 'v5_reference.fasta'\n",
    "fasta_sequences = SeqIO.parse(open(input_path),'fasta')\n",
    "\n",
    "names = []\n",
    "seqs = []\n",
    "for fasta in fasta_sequences:\n",
    "    name, sequence = fasta.id, str(fasta.seq)\n",
    "    names.append(name)\n",
    "    seqs.append(sequence)"
   ]
  },
  {
   "cell_type": "code",
   "execution_count": 4,
   "id": "acfe6f38-6213-4b60-98e9-c824a5ad61ca",
   "metadata": {},
   "outputs": [],
   "source": [
    "amplicon_info = pd.read_csv('v5_amplicon_info.tsv', sep='\\t')"
   ]
  },
  {
   "cell_type": "code",
   "execution_count": 11,
   "id": "5d25a220-a20e-4850-aeec-237964b7685d",
   "metadata": {},
   "outputs": [],
   "source": [
    "for i in range(len(names)): \n",
    "    name = names[i]\n",
    "    seq = seqs[i]\n",
    "    insert_length = amplicon_info[amplicon_info.amplicon==name].ampInsert_length.values[0]-1\n",
    "    ref_length = len(seq)\n",
    "    if insert_length!=ref_length: \n",
    "        print(name)"
   ]
  },
  {
   "cell_type": "code",
   "execution_count": 12,
   "id": "6d123daa-1a3d-4ce0-a245-2c99f3cc7c80",
   "metadata": {},
   "outputs": [
    {
     "data": {
      "text/plain": [
       "241"
      ]
     },
     "execution_count": 12,
     "metadata": {},
     "output_type": "execute_result"
    }
   ],
   "source": [
    "len(amplicon_info)"
   ]
  },
  {
   "cell_type": "code",
   "execution_count": 13,
   "id": "49b5f068-0b5e-4fc8-9f30-85d25aa03720",
   "metadata": {},
   "outputs": [
    {
     "data": {
      "text/plain": [
       "241"
      ]
     },
     "execution_count": 13,
     "metadata": {},
     "output_type": "execute_result"
    }
   ],
   "source": [
    "len(names)"
   ]
  },
  {
   "cell_type": "code",
   "execution_count": null,
   "id": "8db06b98-5cfc-4c41-909a-729230c08e1c",
   "metadata": {},
   "outputs": [],
   "source": []
  }
 ],
 "metadata": {
  "kernelspec": {
   "display_name": "analysis_env",
   "language": "python",
   "name": "analysis_env"
  },
  "language_info": {
   "codemirror_mode": {
    "name": "ipython",
    "version": 3
   },
   "file_extension": ".py",
   "mimetype": "text/x-python",
   "name": "python",
   "nbconvert_exporter": "python",
   "pygments_lexer": "ipython3",
   "version": "3.12.0"
  }
 },
 "nbformat": 4,
 "nbformat_minor": 5
}
