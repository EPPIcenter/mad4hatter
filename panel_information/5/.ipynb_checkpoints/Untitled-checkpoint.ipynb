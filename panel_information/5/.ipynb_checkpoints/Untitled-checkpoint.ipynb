{
 "cells": [
  {
   "cell_type": "code",
   "execution_count": 1,
   "id": "a98f4d60-5096-46c5-bc90-ce5163faa2c7",
   "metadata": {},
   "outputs": [],
   "source": [
    "import pandas as pd "
   ]
  },
  {
   "cell_type": "code",
   "execution_count": 6,
   "id": "6f998e55-2a0e-4c7f-81e6-ab86fb49afc4",
   "metadata": {},
   "outputs": [],
   "source": [
    "df = pd.read_csv('../1B/1B_amplicon_info.tsv', sep='\\t')"
   ]
  },
  {
   "cell_type": "code",
   "execution_count": 3,
   "id": "454f3d00-4c68-40ca-8460-6029aa8b8c7e",
   "metadata": {},
   "outputs": [],
   "source": [
    "loci = ['Pf3D7_08_v3-1365709-1365954-1B',\n",
    "'Pf3D7_08_v3-1366626-1366856-1B',\n",
    "'Pf3D7_08_v3-1370603-1370853-1B',\n",
    "'Pf3D7_08_v3-1375025-1375284-1B',\n",
    "'Pf3D7_08_v3-1386795-1387043-1B',\n",
    "'Pf3D7_11_v3-1294284-1294580-1B',\n",
    "'Pf3D7_13_v3-1465010-1465307-1B',\n",
    "'Pf3D7_13_v3-2770621-2770854-1B',\n",
    "'Pf3D7_13_v3-2780346-2780575-1B',\n",
    "'Pf3D7_13_v3-2814606-2814855-1B',\n",
    "'Pf3D7_13_v3-2816310-2816554-1B',\n",
    "'Pf3D7_13_v3-2840462-2840736-1B',\n",
    "'Pf3D7_13_v3-2841390-2841688-1B2',\n",
    "'Pf3D7_13_v3-2844334-2844629-1B2',\n",
    "'Pf3D7_03_v3-221185-221419-1B',\n",
    "'Pf3D7_03_v3-221463-221712-1B',\n",
    "'Pf3D7_01_v3-194742-194973-1B',\n",
    "'Pf3D7_04_v3-748105-748359-1B',\n",
    "'Pf3D7_04_v3-748374-748611-1B',\n",
    "'Pf3D7_05_v3-958079-958350-1B',\n",
    "'Pf3D7_05_v3-958372-958608-1B',\n",
    "'Pf3D7_05_v3-958920-959168-1B',\n",
    "'Pf3D7_05_v3-960810-961048-1B',\n",
    "'Pf3D7_05_v3-961511-961758-1B',\n",
    "'Pf3D7_07_v3-403479-403716-1B',\n",
    "'Pf3D7_07_v3-403801-404052-1B',\n",
    "'Pf3D7_07_v3-404325-404590-1B',\n",
    "'Pf3D7_07_v3-405570-405844-1B',\n",
    "'Pf3D7_07_v3-896613-896849-1B',\n",
    "'Pf3D7_08_v3-549583-549807-1B',\n",
    "'Pf3D7_08_v3-549960-550215-1B',\n",
    "'Pf3D7_12_v3-2092529-2092798-1B',\n",
    "'Pf3D7_13_v3-748254-748510-1B',\n",
    "'Pf3D7_13_v3-958247-958510-1B',\n",
    "'Pf3D7_13_v3-1724895-1725166-1B',\n",
    "'Pf3D7_13_v3-1725208-1725471-1B',\n",
    "'Pf3D7_13_v3-1725464-1725719-1B',\n",
    "'Pf3D7_13_v3-2504481-2504734-1B',\n",
    "'Pf3D7_14_v3-293575-293829-1B',\n",
    "'Pf3D7_14_v3-294506-294753-1B',\n",
    "'Pf3D7_14_v3-297583-297856-1B',\n",
    "'Pf3D7_14_v3-298368-298636-1B',\n",
    "'Pf3D7_14_v3-1956056-1956330-1B',\n",
    "'Pf3D7_14_v3-2481033-2481276-1B',\n",
    "'PmUG01_12_v1-1397996-1398245-1AB',\n",
    "'PocGH01_12_v1-1106456-1106697-1AB',\n",
    "'PvP01_12_v1-1184983-1185208-1AB',\n",
    "]"
   ]
  },
  {
   "cell_type": "code",
   "execution_count": 12,
   "id": "47f6e34d-773c-4ab1-b75e-c9f0ffd585c9",
   "metadata": {},
   "outputs": [],
   "source": [
    "df[df.amplicon.isin(loci)].to_csv('5_amplicon_info.tsv', sep='\\t', index=False)"
   ]
  },
  {
   "cell_type": "code",
   "execution_count": null,
   "id": "bab47dca-cdcc-44e2-8914-83e536c38e2b",
   "metadata": {},
   "outputs": [],
   "source": []
  }
 ],
 "metadata": {
  "kernelspec": {
   "display_name": "analysis_env",
   "language": "python",
   "name": "analysis_env"
  },
  "language_info": {
   "codemirror_mode": {
    "name": "ipython",
    "version": 3
   },
   "file_extension": ".py",
   "mimetype": "text/x-python",
   "name": "python",
   "nbconvert_exporter": "python",
   "pygments_lexer": "ipython3",
   "version": "3.12.0"
  }
 },
 "nbformat": 4,
 "nbformat_minor": 5
}
